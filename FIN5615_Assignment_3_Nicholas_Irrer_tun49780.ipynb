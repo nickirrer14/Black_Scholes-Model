{
 "cells": [
  {
   "cell_type": "markdown",
   "metadata": {
    "deletable": false,
    "editable": false
   },
   "source": [
    "<h2>FIN5615 Project #3\n",
    "    <p class=\"text-primary\">Black Scholes Options Pricing</p>\n",
    "</h2>\n",
    "\n",
    "<div class = \"alert alert-block alert-danger\">\n",
    "    <b>Due Date</b>: October 19th 2020, 11:59PM EST \n",
    "</div>"
   ]
  },
  {
   "cell_type": "markdown",
   "metadata": {
    "deletable": false,
    "editable": false
   },
   "source": [
    "<div class = \"panel panel-success\">\n",
    "    <div class = \"panel-heading\"> \n",
    "    <span style=\"color:black\"><b>Project Introduction</b>\n",
    "    </div>\n",
    "    <div class = \"panel-body\"> \n",
    "    The goal of this project is to build an options pricing calculator using the Black-Scholes pricing model. Our calculator will be able to price both put and call options as well as the following set of Greeks: delta, gamma, theta, vega, and rho. \n",
    "    </div>\n",
    "</div>\n",
    "\n",
    "<div class = \"panel panel-info\">\n",
    "    <div class = \"panel-heading\"> \n",
    "    <span style=\"color:black\"><b>Instructions</b>\n",
    "    </div>\n",
    "    <div class = \"panel-body\"> \n",
    "    Please code you solutions directly in this Notebook under each task in the cells provided below. Include all code used to produce your results, and support your answers with textual explanations if neccessary. You may feel free to add additional Code and/or Markdown cells as needed. Code must be written using <b>Python 3</b>.\n",
    "    <br><br>Please order the cells in your Notebook in the order in which they are intended to run! It is expected that your Notebook is able to run in sequence from start to finish without any errors (before submitting check by: <code>Kernel > Restart & Run All</code>).\n",
    "    <br><br>Once ready, please submit your assignment as an <b>.ipynb file</b> (<code>File > Download as > Notebook</code>). You must name your files in the following format: <b><code>FIN5615_Assignmnet_1_Richard_Lee_tuc12345.ipynb</code></b>.\n",
    "    </div>\n",
    "</div>\n",
    "\n",
    "---\n",
    "<div class = \"alert alert-block alert-warning\">\n",
    "    <b>Note</b>: Import all libraries that you plan on using in the code block below.\n",
    "</div>"
   ]
  },
  {
   "cell_type": "code",
   "execution_count": 1,
   "metadata": {},
   "outputs": [],
   "source": [
    "import numpy as np\n",
    "import random\n",
    "import matplotlib.pyplot as plt\n",
    "import math\n",
    "import scipy\n",
    "from scipy.stats import norm"
   ]
  },
  {
   "cell_type": "markdown",
   "metadata": {
    "deletable": false,
    "editable": false
   },
   "source": [
    "<div class = \"panel panel-primary\">\n",
    "    <div class = \"panel-heading\"> \n",
    "    <span style=\"color:white\"><b>Task 1</b>\n",
    "    </div>\n",
    "    <div class = \"panel-body\">\n",
    "    Recall that the Black-Scholes formula for the price of a call option is: \n",
    "    <br><br>\n",
    "    $$Call = S_0N(d_1) - Ke^{-rT}N(d_2)$$\n",
    "    <br>$$d_1 = \\frac{1}{\\sigma\\sqrt{T}}\\left[\\ln\\left(\\frac{S_0}{K}\\right) + \\left(r + \\frac{1}{2}\\sigma^2\\right)T\\right]$$\n",
    "    <br>$$d_2 = d_1 - \\sigma\\sqrt{T}$$\n",
    "    <br>Write an expression that can calculate the price of a call option using the Black-Scholes formula, given the follwowing variables:\n",
    "    <ul>\n",
    "        <li><code>stock_price</code> = price of underlying stock at time t</li>\n",
    "        <li><code>strike</code> = strike price of the options contract</li>\n",
    "        <li><code>term</code> = remaining time in years left on the option contract</li>\n",
    "        <li><code>rf</code> = annual risk-free rate</li>\n",
    "        <li><code>volatility</code> = annualized volatility of the underlying stock</li>\n",
    "    </ul>\n",
    "    <p style=\"text-align:right;\">[5pts]</p>\n",
    "    </div>\n",
    "</div>\n",
    "<div class = \"alert alert-block alert-info\">\n",
    "    <b>Hint</b>: https://docs.scipy.org/doc/scipy/reference/generated/scipy.stats.norm.html\n",
    "</div>"
   ]
  },
  {
   "cell_type": "code",
   "execution_count": 2,
   "metadata": {
    "scrolled": true
   },
   "outputs": [],
   "source": [
    "stock_price = 30\n",
    "strike = 35     \n",
    "term = 0.5\n",
    "rf = .01\n",
    "volatility = .2\n",
    "\n",
    "d1 = (1/(volatility*(term**.5)))*((np.log(stock_price/strike))+((rf+(.5*(volatility**2)))*term))\n",
    "d2 = d1 - volatility*(term**.5)\n",
    "\n"
   ]
  },
  {
   "cell_type": "code",
   "execution_count": 3,
   "metadata": {},
   "outputs": [
    {
     "name": "stdout",
     "output_type": "stream",
     "text": [
      "0.34\n"
     ]
    }
   ],
   "source": [
    "call = stock_price * norm.cdf(d1) - strike * (np.exp(-rf * term)) * norm.cdf(d2)\n",
    "print(round(call,2))"
   ]
  },
  {
   "cell_type": "markdown",
   "metadata": {
    "deletable": false,
    "editable": false
   },
   "source": [
    "<div class = \"panel panel-primary\">\n",
    "    <div class = \"panel-heading\"> \n",
    "    <span style=\"color:white\"><b>Task 2</b>\n",
    "    </div>\n",
    "    <div class = \"panel-body\"> \n",
    "    Write a function called <code>black_sholes_formula</code> that takes in <code>stock_price</code>, <code>strike</code>, <code>term</code>, <code>rf</code>, and <code>volatility</code> as input parameters, and outputs the price of a call option according to the Black-Scholes pricing model.\n",
    "    <br><br>Double check that the function outputs the same price as the previous task under the following values:\n",
    "    <ul>\n",
    "        <li><code>stock_price</code> = \\$30</li>\n",
    "        <li><code>strike</code> = \\$35</li>\n",
    "        <li><code>term</code> = 6 months</li>\n",
    "        <li><code>rf</code> = 1%</li>\n",
    "        <li><code>volatility</code> = 0.2</li>\n",
    "    </ul>\n",
    "    <p style=\"text-align:right;\">[5pts]</p>\n",
    "    </div>\n",
    "</div>"
   ]
  },
  {
   "cell_type": "code",
   "execution_count": 4,
   "metadata": {},
   "outputs": [],
   "source": [
    "def black_sholes_formula(stock_price, strike, term, rf, volatility):\n",
    "\n",
    "    d1 = (1/(volatility*(term**.5)))*((np.log(stock_price/strike))+((rf+(.5*(volatility**2)))*term))\n",
    "    d2 = d1 - volatility*(term**.5)\n",
    "    call = stock_price * norm.cdf(d1) - strike * (np.exp(-rf * term)) * norm.cdf(d2)\n",
    "    \n",
    "    return call"
   ]
  },
  {
   "cell_type": "code",
   "execution_count": 5,
   "metadata": {},
   "outputs": [
    {
     "data": {
      "text/plain": [
       "0.34"
      ]
     },
     "execution_count": 5,
     "metadata": {},
     "output_type": "execute_result"
    }
   ],
   "source": [
    "round(black_sholes_formula(30, 35, .5, .01, .2),2)"
   ]
  },
  {
   "cell_type": "markdown",
   "metadata": {
    "deletable": false,
    "editable": false
   },
   "source": [
    "<div class = \"panel panel-primary\">\n",
    "    <div class = \"panel-heading\"> \n",
    "    <span style=\"color:white\"><b>Task 3</b>\n",
    "    </div>\n",
    "    <div class = \"panel-body\">\n",
    "    Recall that the Black-Scholes formula for the price of a put option is:\n",
    "    <br><br>\n",
    "    $$Put = Ke^{-rT}N(-d_2) - S_0N(-d_1)$$\n",
    "    <br>Modify the function <code>black_sholes_formula</code> by adding an extra input parameter <code>option</code> that can take on either the value <code>'call'</code> or <code>'put'</code>. Depending on the value assigned to the parameter <code>option</code>, <code>black_sholes_formula</code> will output either the price of a call or a put option.\n",
    "    <br><br>Use the updated <code>black_sholes_formula</code> function to calculate the price of both a <b>call</b> and <b>put</b> option using the following input values:\n",
    "    <ul>\n",
    "        <li><code>stock_price</code> = \\$30</li>\n",
    "        <li><code>strike</code> = \\$35</li>\n",
    "        <li><code>term</code> = 6 months</li>\n",
    "        <li><code>rf</code> = 1%</li>\n",
    "        <li><code>volatility</code> = 0.2</li>\n",
    "    </ul>\n",
    "    <p style=\"text-align:right;\">[5pts]</p>\n",
    "    </div>\n",
    "</div>"
   ]
  },
  {
   "cell_type": "code",
   "execution_count": 6,
   "metadata": {},
   "outputs": [],
   "source": [
    "def black_sholes_formula (stock_price, strike, term, rf, volatility, option = 'call'):\n",
    "    \n",
    "    d1 = (1/(volatility*(term**.5)))*((np.log(stock_price/strike))+((rf+(.5*(volatility**2)))*term))\n",
    "    d2 = d1 - volatility*(term**.5)\n",
    "\n",
    "    if option == 'call':\n",
    "        call = stock_price * norm.cdf(d1) - strike * (np.exp(-rf * term)) * norm.cdf(d2)\n",
    "        return call\n",
    "    elif option =='put':\n",
    "        put = (strike * (np.exp(-rf * term)) * norm.cdf(-d2)) - stock_price * norm.cdf(-d1)\n",
    "        return put\n",
    "    else: \n",
    "        'print(Option must be a put or call)'"
   ]
  },
  {
   "cell_type": "code",
   "execution_count": 7,
   "metadata": {},
   "outputs": [
    {
     "data": {
      "text/plain": [
       "0.34"
      ]
     },
     "execution_count": 7,
     "metadata": {},
     "output_type": "execute_result"
    }
   ],
   "source": [
    "round(black_sholes_formula(30,35,.5,.01,.2, 'call'),2)"
   ]
  },
  {
   "cell_type": "code",
   "execution_count": 8,
   "metadata": {},
   "outputs": [
    {
     "data": {
      "text/plain": [
       "5.17"
      ]
     },
     "execution_count": 8,
     "metadata": {},
     "output_type": "execute_result"
    }
   ],
   "source": [
    "round(black_sholes_formula(30,35,.5,.01,.2, 'put'),2)"
   ]
  },
  {
   "cell_type": "markdown",
   "metadata": {
    "deletable": false,
    "editable": false
   },
   "source": [
    "<div class = \"panel panel-primary\">\n",
    "    <div class = \"panel-heading\"> \n",
    "    <span style=\"color:white\"><b>Task 4</b>\n",
    "    </div>\n",
    "    <div class = \"panel-body\"> \n",
    "    Recall that the payoff of a call option is $\\max(S_T - K, 0)$.\n",
    "    <ul>\n",
    "        <li>Price the value of the call option with \\$35 strike, 6 months to termination, at 0.2 volatility and 1% risk-free rate, when stock price ranges from \\$10 to \\$60 (use \\$0.50 increments).</li>\n",
    "        <li>Also calculate the option's payoff assuming the same range of stock price at termination.</li>\n",
    "        <li>Plot the ranges of call option prices and payoffs in a single line plot. Provide a legend, x-axis label, and title for the plot.</li>\n",
    "    </ul>\n",
    "    <p style=\"text-align:right;\">[10pts]</p>\n",
    "    </div>\n",
    "</div>"
   ]
  },
  {
   "cell_type": "code",
   "execution_count": 9,
   "metadata": {},
   "outputs": [],
   "source": [
    "def call_payoff(stock, strike):\n",
    "    payoff = max(stock-strike,0.)\n",
    "    return payoff"
   ]
  },
  {
   "cell_type": "code",
   "execution_count": 10,
   "metadata": {},
   "outputs": [],
   "source": [
    "stock_prices = np.arange(10, 60.5, .5)"
   ]
  },
  {
   "cell_type": "code",
   "execution_count": 11,
   "metadata": {},
   "outputs": [],
   "source": [
    "payoffs = [call_payoff(stock = price, strike = 35) for price in stock_prices]"
   ]
  },
  {
   "cell_type": "code",
   "execution_count": 12,
   "metadata": {},
   "outputs": [
    {
     "data": {
      "image/png": "[encoded data removed]",
      "text/plain": [
       "<Figure size 432x288 with 1 Axes>"
      ]
     },
     "metadata": {
      "needs_background": "light"
     },
     "output_type": "display_data"
    }
   ],
   "source": [
    "plt.plot(stock_prices, payoffs)\n",
    "plt.show()"
   ]
  },
  {
   "cell_type": "code",
   "execution_count": 13,
   "metadata": {},
   "outputs": [
    {
     "data": {
      "image/png": "[encoded data removed]",
      "text/plain": [
       "<Figure size 432x288 with 1 Axes>"
      ]
     },
     "metadata": {
      "needs_background": "light"
     },
     "output_type": "display_data"
    }
   ],
   "source": [
    "def call_price(stock, strike, term, rf, volatility):\n",
    "    \n",
    "    d1 = (1/(volatility*(term**.5)))*((np.log(stock/strike))+((rf+(.5*(volatility**2)))*term))\n",
    "    d2 = d1 - volatility*(term**.5)\n",
    "   \n",
    "    call = stock * norm.cdf(d1) - strike * (np.exp(-rf * term)) * norm.cdf(d2)\n",
    "    \n",
    "    return call\n",
    "\n",
    "stock_prices = np.arange(10, 60.5, .5)\n",
    "\n",
    "prices = [call_price(stock = price, strike = 35,term = .5, rf = .01, volatility = .2) for price in stock_prices]\n",
    "\n",
    "plt.plot(stock_prices, prices)\n",
    "plt.show()"
   ]
  },
  {
   "cell_type": "markdown",
   "metadata": {
    "deletable": false,
    "editable": false
   },
   "source": [
    "<div class = \"panel panel-primary\">\n",
    "    <div class = \"panel-heading\"> \n",
    "    <span style=\"color:white\"><b>Task 5</b>\n",
    "    </div>\n",
    "    <div class = \"panel-body\"> \n",
    "    Recall that given a continuous annual dividend rate $q$:\n",
    "    <br><br>\n",
    "    $$Call = S_0e^{-qT}N(d_1) - Ke^{-rT}N(d_2)$$\n",
    "    <br>$$Put = Ke^{-rT}N(-d_2) - S_te^{-qT}N(-d_1)$$\n",
    "    <br>$$d_1 = \\frac{1}{\\sigma\\sqrt{T}}\\left[\\ln\\left(\\frac{S_0}{K}\\right) + \\left(r - q + \\frac{1}{2}\\sigma^2\\right)T\\right]$$\n",
    "    <br>$$d_2 = d_1 - \\sigma\\sqrt{T}$$\n",
    "    <ul>\n",
    "        <li>Add an additional input parameter <code>dividend</code>, to the function <code>black_sholes_formula</code>, representing the continuous rate of dividend paid to shareholders by the stock, with a default value to equal to 0. Modify the Black-Scholes pricing formula to account for the dividend rate.</li>\n",
    "        <li>Calculate the price of a call option where the stock price is \\$30, strike is \\$35, term is 6 months, volatility is 20%, that also pays a 2.5% annual dividend, using a risk-free rate of 1%.</li>\n",
    "        <li>How does adding a dividend rate influence the price of a call option and why?</li>\n",
    "    </ul>\n",
    "    <p style=\"text-align:right;\">[10pts]</p>\n",
    "    </div>\n",
    "</div>"
   ]
  },
  {
   "cell_type": "code",
   "execution_count": 14,
   "metadata": {},
   "outputs": [],
   "source": [
    "def black_sholes_formula (stock_price, strike, term, rf, volatility, dividend):\n",
    "    \n",
    "    d1 = (1/(volatility*(term**.5)))*((np.log(stock_price/strike))+((rf - dividend +(.5*(volatility**2)))*term))\n",
    "    d2 = d1 - volatility*(term**.5)\n",
    "    call = stock_price*np.exp(-dividend*term) * norm.cdf(d1) - strike * (np.exp(-rf * term)) * norm.cdf(d2)\n",
    "    \n",
    "    return call"
   ]
  },
  {
   "cell_type": "code",
   "execution_count": 15,
   "metadata": {},
   "outputs": [
    {
     "data": {
      "text/plain": [
       "0.29"
      ]
     },
     "execution_count": 15,
     "metadata": {},
     "output_type": "execute_result"
    }
   ],
   "source": [
    "round(black_sholes_formula(30,35,.5,.01,.2,.025),2)"
   ]
  },
  {
   "cell_type": "markdown",
   "metadata": {},
   "source": [
    "*Your written response here*\n",
    "\n",
    "adding a dividend decreases the price of the call option becuase we are taking away from the risk-free rate.\n"
   ]
  },
  {
   "cell_type": "markdown",
   "metadata": {
    "deletable": false,
    "editable": false
   },
   "source": [
    "<div class = \"panel panel-primary\">\n",
    "    <div class = \"panel-heading\"> \n",
    "    <span style=\"color:white\"><b>Task 6</b>\n",
    "    </div>\n",
    "    <div class = \"panel-body\">\n",
    "    Write a function called <code>black_scholes_greeks</code> that takes in the same input parameters as <code>black_scholes_formula</code>, and calculates the option's greeks (delta, gamma, vega, theta, and rho) according to the below table :\n",
    "    ![image.png](attachment:image.png)\n",
    "    <br><br>Note that $N^{\\prime}(x)$ is simply the pdf of the normal distribution.\n",
    "    <br><br>The output should be returned in the form of dictionary with the following keys: <code>delta</code>, <code>gamma</code>, <code>vega</code>, <code>theta</code>, <code>rho</code>, each storing the corresponding greek value for the option. Run <code>black_scholes_greeks</code> on a call option where:\n",
    "    <ul>\n",
    "        <li><code>stock_price</code> = \\$30</li>\n",
    "        <li><code>strike</code> = \\$35</li>\n",
    "        <li><code>term</code> = 6 months</li>\n",
    "        <li><code>rf</code> = 1%</li>\n",
    "        <li><code>volatility</code> = 0.2</li>\n",
    "        <li><code>dividend</code> = 2.5%</li>\n",
    "    </ul>\n",
    "    <p style=\"text-align:right;\">[15pts]</p>\n",
    "    </div>\n",
    "</div>"
   ]
  },
  {
   "cell_type": "code",
   "execution_count": 16,
   "metadata": {},
   "outputs": [],
   "source": [
    "def black_sholes_greeks(stock_price, strike, term, rf, volatility, dividend):\n",
    "    d1 = (1/(volatility*(term**.5)))*((np.log(stock_price/strike))+((rf - dividend +(.5*(volatility**2)))*term))\n",
    "    d2 = d1 - volatility*(term**.5)\n",
    "    delta = norm.cdf(d1)\n",
    "    gamma = norm.pdf(d1)/(stock_price*volatility*np.sqrt(term))\n",
    "    theta = (-(stock_price*norm.pdf(d1)*volatility)/(2*np.sqrt(term)-rf*strike*np.exp(-rf*term)*norm.pdf(d2)))/360\n",
    "    vega = (stock_price*norm.pdf(d1)*np.sqrt(term))/100\n",
    "    rho = strike*term*np.exp(-rf*term)*norm.cdf(d2)/100\n",
    "    \n",
    "    print('delta =', delta) , print('gamma =', gamma) , print('theta =',theta) , print('vega =', vega) , print('rho =', rho)\n",
    "    \n",
    "    #_# Instead of returning the data as a list, I print the reullts with their labels "
   ]
  },
  {
   "cell_type": "code",
   "execution_count": 17,
   "metadata": {},
   "outputs": [
    {
     "name": "stdout",
     "output_type": "stream",
     "text": [
      "delta = 0.14178541526457605\n",
      "gamma = 0.05291477759776747\n",
      "theta = -0.002776313669553605\n",
      "vega = 0.04762329983799073\n",
      "rho = 0.01957553740472613\n"
     ]
    }
   ],
   "source": [
    "black_sholes_greeks(30, 35, .5, .01, .2, .025)"
   ]
  },
  {
   "cell_type": "markdown",
   "metadata": {
    "deletable": false,
    "editable": false
   },
   "source": [
    "<div class = \"panel panel-primary\">\n",
    "    <div class = \"panel-heading\"> \n",
    "    <span style=\"color:white\"><b>Task 7</b>\n",
    "    </div>\n",
    "    <div class = \"panel-body\"> \n",
    "    Modify the function <code>black_scholes_formula</code> to take in a <b>boolean</b> input parameter called <code>greeks</code> that can be either <code>True</code> or <code>False</code>, a default value of <code>False</code>.\n",
    "    <br><br>If <code>greeks</code> is <code>True</code>, then in addition to producing the price of a call / put option, <code>black_scholes_formula</code> will also calculate the greeks of the option using the function <code>black_scholes_greeks</code>, and return the delta, gamma, vega, theta, and rho as a dictionary, in addition to the price of the option.\n",
    "    <br><br>If <code>greeks</code> is <code>False</code>, then simply return the price of the option just like before. Run <code>black_scholes_formula</code> to price of a call option where:\n",
    "    <ul>\n",
    "        <li><code>stock_price</code> = \\$30</li>\n",
    "        <li><code>strike</code> = \\$35</li>\n",
    "        <li><code>term</code> = 6 months</li>\n",
    "        <li><code>rf</code> = 1%</li>\n",
    "        <li><code>volatility</code> = 0.2</li>\n",
    "        <li><code>dividend</code> = 2.5%</li>\n",
    "        <li><code>greeks</code> = True</li>\n",
    "    </ul>\n",
    "    <p style=\"text-align:right;\">[10pts]</p>\n",
    "    </div>\n",
    "</div>"
   ]
  },
  {
   "cell_type": "code",
   "execution_count": 18,
   "metadata": {},
   "outputs": [],
   "source": [
    "def black_sholes_formula(stock_price, strike, term, rf, volatility, dividend, option = 'call', greek = 'false'):\n",
    "    d1 = (1/(volatility*(term**.5)))*((np.log(stock_price/strike))+((rf - dividend +(.5*(volatility**2)))*term))\n",
    "    d2 = d1 - volatility*(term**.5)\n",
    "    \n",
    "    \n",
    "    if option == 'call' and greek == 'true':\n",
    "        delta = norm.cdf(d1)\n",
    "        gamma = norm.pdf(d1)/(stock_price*volatility*np.sqrt(term))\n",
    "        theta = (-(stock_price*norm.pdf(d1)*volatility)/(2*np.sqrt(term)-rf*strike*np.exp(-rf*term)*norm.pdf(d2)))/360\n",
    "        vega = (stock_price*norm.pdf(d1)*np.sqrt(term))/100\n",
    "        rho = strike*term*np.exp(-rf*term)*norm.cdf(d2)/100\n",
    "        call = stock_price*np.exp(-dividend*term) * norm.cdf(d1) - strike * (np.exp(-rf * term)) * norm.cdf(d2)\n",
    "        put = (strike * (np.exp(-rf * term)) * norm.cdf(-d2)) - stock_price * norm.cdf(-d1)\n",
    "        print('call =', call) , print('delta =', delta) , print('gamma =', gamma) , print('theta =',theta) , print('vega =', vega) , print('rho =', rho)\n",
    "    \n",
    "    elif option == 'call' and greek == 'false':\n",
    "        call = stock_price*np.exp(-dividend*term) * norm.cdf(d1) - strike * (np.exp(-rf * term)) * norm.cdf(d2)\n",
    "        put = (strike * (np.exp(-rf * term)) * norm.cdf(-d2)) - stock_price * norm.cdf(-d1)\n",
    "        print('call =', call)\n",
    "\n",
    "    elif option == 'put' and greek == 'true':\n",
    "        delta = norm.cdf(d1)\n",
    "        gamma = norm.pdf(d1)/(stock_price*volatility*np.sqrt(term))\n",
    "        theta = (-(stock_price*norm.pdf(d1)*volatility)/(2*np.sqrt(term)-rf*strike*np.exp(-rf*term)*norm.pdf(d2)))/360\n",
    "        vega = (stock_price*norm.pdf(d1)*np.sqrt(term))/100\n",
    "        rho = strike*term*np.exp(-rf*term)*norm.cdf(d2)/100\n",
    "        call = stock_price*np.exp(-dividend*term) * norm.cdf(d1) - strike * (np.exp(-rf * term)) * norm.cdf(d2)\n",
    "        put = (strike * (np.exp(-rf * term)) * norm.cdf(-d2)) - stock_price * norm.cdf(-d1)\n",
    "        print('put =', put) , print('delta =', delta) , print('gamma =', gamma) , print('theta =',theta) , print('vega =', vega) , print('rho =', rho)\n",
    "    else: \n",
    "        put = (strike * (np.exp(-rf * term)) * norm.cdf(-d2)) - stock_price * norm.cdf(-d1)\n",
    "        print('put =', put)\n",
    "        \n",
    "#_# whichever condition is met will print the data speccific under its respective condition with a label"
   ]
  },
  {
   "cell_type": "code",
   "execution_count": 19,
   "metadata": {},
   "outputs": [
    {
     "name": "stdout",
     "output_type": "stream",
     "text": [
      "call = 0.2856163755278227\n",
      "delta = 0.14178541526457605\n",
      "gamma = 0.05291477759776747\n",
      "theta = -0.002776313669553605\n",
      "vega = 0.04762329983799073\n",
      "rho = 0.01957553740472613\n"
     ]
    }
   ],
   "source": [
    "black_sholes_formula(30, 35, .5, .01, .2, .025, 'call', 'true')"
   ]
  },
  {
   "cell_type": "markdown",
   "metadata": {
    "deletable": false,
    "editable": false
   },
   "source": [
    "<div class = \"panel panel-primary\">\n",
    "    <div class = \"panel-heading\"> \n",
    "    <span style=\"color:white\"><b>Task 8</b>\n",
    "    </div>\n",
    "    <div class = \"panel-body\"> \n",
    "    One of the assumptions to the Black-Scholes pricing model is that the risk-free interest rate is constant. However in practice, interest rates should follow a term structure, such as the spot curve.\n",
    "    <br><br>Assume that the spot curve follows the below formula:\n",
    "    <br><br>\n",
    "    $$r(t) = \\beta_0 + \\beta_1\\left(\\frac{1 - e^{-\\alpha t}}{\\alpha t}\\right) + \\beta_2\\left(\\frac{1 - e^{-\\alpha t}}{\\alpha t} - e^{-\\alpha t}\\right)$$\n",
    "    <br>Note that resulting $r(t)$ is expressed as a percentage. Set the parameters equal to the following values:\n",
    "    <ul>\n",
    "        <li>$\\alpha = .7143$</li>\n",
    "        <li>$\\beta_0 = 2.99$</li>\n",
    "        <li>$\\beta_1 = -2.70$</li>\n",
    "        <li>$\\beta_2 = -2.12$</li>\n",
    "    </ul>\n",
    "    <br>Next:\n",
    "    <ul>\n",
    "        <li>Write a function that takes in <code>term</code> as an input parameter, then calculates and returns the spot rate according to the formula above.</li>\n",
    "        <li>Plot the spot curve for terms ranging from 1 quarter to 30 years in quarterly increments on a line plot. Provide axis labels and a title for the plot.</li>\n",
    "        <li>Comment on the shape and reasonableness of this calculated spot curve. </li>\n",
    "    </ul>\n",
    "    <p style=\"text-align:right;\">[10pts]</p>\n",
    "    </div>\n",
    "</div>"
   ]
  },
  {
   "cell_type": "code",
   "execution_count": 20,
   "metadata": {},
   "outputs": [],
   "source": [
    "def spot_rate(term):\n",
    "    alpha = .7143\n",
    "    beta0 =  2.99\n",
    "    beta1 = -2.7\n",
    "    beta2 = -2.12\n",
    "    rate = beta0 + beta1*((1-np.exp(-alpha*term))/(alpha*term))+beta2*(((1-np.exp(-alpha*term))/(alpha*term))-np.exp(-alpha*term))\n",
    "    return rate\n",
    "#_# function defining the spot rate"
   ]
  },
  {
   "cell_type": "code",
   "execution_count": 21,
   "metadata": {},
   "outputs": [],
   "source": [
    "term_range = np.arange(.25, 30.25, .25)\n",
    "yield_curve = [spot_rate(term = spot) for spot in term_range]\n",
    "\n",
    "#_# term_range is the list rates for repsective times, yield_curve are the y values"
   ]
  },
  {
   "cell_type": "code",
   "execution_count": 22,
   "metadata": {
    "scrolled": true
   },
   "outputs": [
    {
     "data": {
      "text/plain": [
       "array([0.34915023, 0.42008936, 0.4991032 , 0.58326231, 0.67027423,\n",
       "       0.75836204, 0.84616489, 0.93265648, 1.01707851, 1.09888627,\n",
       "       1.17770441, 1.25329095, 1.32550814, 1.39429886, 1.45966761,\n",
       "       1.52166529, 1.58037697, 1.6359122 , 1.6883973 , 1.73796936,\n",
       "       1.78477153, 1.82894937, 1.87064811, 1.91001059, 1.9471757 ,\n",
       "       1.98227737, 2.01544377, 2.0467969 , 2.07645234, 2.10451915,\n",
       "       2.1310999 , 2.15629082, 2.18018198, 2.20285754, 2.22439603,\n",
       "       2.24487059, 2.26434935, 2.28289566, 2.30056844, 2.31742243,\n",
       "       2.33350851, 2.34887394, 2.36356262, 2.37761534, 2.39107002,\n",
       "       2.40396189, 2.41632371, 2.42818597, 2.43957703, 2.45052329,\n",
       "       2.46104935, 2.47117816, 2.48093109, 2.49032811, 2.49938785,\n",
       "       2.50812775, 2.51656408, 2.5247121 , 2.53258609, 2.54019943,\n",
       "       2.54756467, 2.5546936 , 2.56159727, 2.56828608, 2.57476983,\n",
       "       2.58105773, 2.58715845, 2.59308016, 2.5988306 , 2.60441705,\n",
       "       2.60984638, 2.61512511, 2.6202594 , 2.62525507, 2.63011765,\n",
       "       2.63485237, 2.63946419, 2.64395784, 2.64833779, 2.65260828,\n",
       "       2.65677338, 2.66083692, 2.66480258, 2.66867384, 2.67245403,\n",
       "       2.67614633, 2.67975377, 2.68327922, 2.68672547, 2.69009514,\n",
       "       2.69339076, 2.69661474, 2.69976939, 2.70285693, 2.70587947,\n",
       "       2.70883904, 2.7117376 , 2.714577  , 2.71735904, 2.72008544,\n",
       "       2.72275786, 2.72537787, 2.72794701, 2.73046675, 2.73293849,\n",
       "       2.7353636 , 2.73774337, 2.74007908, 2.74237193, 2.7446231 ,\n",
       "       2.7468337 , 2.74900482, 2.75113752, 2.75323281, 2.75529165,\n",
       "       2.757315  , 2.75930376, 2.76125881, 2.76318101, 2.76507117])"
      ]
     },
     "execution_count": 22,
     "metadata": {},
     "output_type": "execute_result"
    }
   ],
   "source": [
    "spot_rate(term_range)"
   ]
  },
  {
   "cell_type": "code",
   "execution_count": 23,
   "metadata": {
    "scrolled": true
   },
   "outputs": [
    {
     "data": {
      "image/png": "[encoded data removed]",
      "text/plain": [
       "<Figure size 432x288 with 1 Axes>"
      ]
     },
     "metadata": {
      "needs_background": "light"
     },
     "output_type": "display_data"
    }
   ],
   "source": [
    "plt.plot(term_range, yield_curve)\n",
    "plt.show()"
   ]
  },
  {
   "cell_type": "code",
   "execution_count": 24,
   "metadata": {},
   "outputs": [],
   "source": [
    "#The shape is concave down but increasing. Typical for a yeild curve"
   ]
  },
  {
   "cell_type": "markdown",
   "metadata": {
    "deletable": false,
    "editable": false
   },
   "source": [
    "<div class = \"panel panel-primary\">\n",
    "    <div class = \"panel-heading\"> \n",
    "    <span style=\"color:white\"><b>Task 9</b>\n",
    "    </div>\n",
    "    <div class = \"panel-body\"> \n",
    "    Modify the function <code>black_scholes_formula</code> to use the spot rate outputted from the function in the previous task as the appropriate risk-free rate in our Black-Scholes formula based on the term of the options contract.\n",
    "    <br><br>Note that this means <code>rf</code> will no longer be an input to the <code>black_scholes_formula</code> function. Run <code>black_scholes_formula</code> to price the following options:\n",
    "    <ul>\n",
    "        <li>A call option where the stock price is \\$30, strike is \\$35, term is 9 months, volatility is 20%, that also pays a 2.5% annual dividend, with <code>greeks</code> set to <code>True</code>.</li>\n",
    "        <li>A put option where the stock price is \\$35, strike is \\$30, term is 2 years, volatility is 20%, that also pays a 2.5% annual dividend, with <code>greeks</code> set to <code>True</code>.</li>\n",
    "    </ul>\n",
    "    <p style=\"text-align:right;\">[15pts]</p>\n",
    "    </div>\n",
    "</div>"
   ]
  },
  {
   "cell_type": "code",
   "execution_count": 25,
   "metadata": {},
   "outputs": [],
   "source": [
    "def black_sholes_formula(stock_price, strike, term, rf, volatility, dividend, option = 'call', greek = 'false'):\n",
    "    d1 = (1/(volatility*(term**.5)))*((np.log(stock_price/strike))+((rf - dividend +(.5*(volatility**2)))*term))\n",
    "    d2 = d1 - volatility*(term**.5)\n",
    "    \n",
    "    if option == 'call' and greek == 'true':\n",
    "        delta = norm.cdf(d1)\n",
    "        gamma = norm.pdf(d1)/(stock_price*volatility*np.sqrt(term))\n",
    "        theta = (-(stock_price*norm.pdf(d1)*volatility)/(2*np.sqrt(term)-rf*strike*np.exp(-rf*term)*norm.pdf(d2)))/360\n",
    "        vega = (stock_price*norm.pdf(d1)*np.sqrt(term))/100\n",
    "        rho = strike*term*np.exp(-rf*term)*norm.cdf(d2)/100\n",
    "        call = stock_price*np.exp(-dividend*term) * norm.cdf(d1) - strike * (np.exp(-rf * term)) * norm.cdf(d2)\n",
    "        put = (strike * (np.exp(-rf * term)) * norm.cdf(-d2)) - stock_price * norm.cdf(-d1)\n",
    "        print('call =', call) , print('delta =', delta) , print('gamma =', gamma) , print('theta =',theta) , print('vega =', vega) , print('rho =', rho)\n",
    "    \n",
    "    elif option == 'call' and greek == 'false':\n",
    "        call = stock_price*np.exp(-dividend*term) * norm.cdf(d1) - strike * (np.exp(-rf * term)) * norm.cdf(d2)\n",
    "        put = (strike * (np.exp(-rf * term)) * norm.cdf(-d2)) - stock_price * norm.cdf(-d1)\n",
    "        print('call =', call)\n",
    "\n",
    "    elif option == 'put' and greek == 'true':\n",
    "        delta = norm.cdf(d1)\n",
    "        gamma = norm.pdf(d1)/(stock_price*volatility*np.sqrt(term))\n",
    "        theta = (-(stock_price*norm.pdf(d1)*volatility)/(2*np.sqrt(term)-rf*strike*np.exp(-rf*term)*norm.pdf(d2)))/360\n",
    "        vega = (stock_price*norm.pdf(d1)*np.sqrt(term))/100\n",
    "        rho = strike*term*np.exp(-rf*term)*norm.cdf(d2)/100\n",
    "        call = stock_price*np.exp(-dividend*term) * norm.cdf(d1) - strike * (np.exp(-rf * term)) * norm.cdf(d2)\n",
    "        put = (strike * (np.exp(-rf * term)) * norm.cdf(-d2)) - stock_price * norm.cdf(-d1)\n",
    "        print('put =', put) , print('delta =', delta) , print('gamma =', gamma) , print('theta =',theta) , print('vega =', vega) , print('rho =', rho)\n",
    "    else: \n",
    "        put = (strike * (np.exp(-rf * term)) * norm.cdf(-d2)) - stock_price * norm.cdf(-d1)\n",
    "        print('put =', put)\n",
    "        \n",
    "#_# same function defined before excluding rf"
   ]
  },
  {
   "cell_type": "code",
   "execution_count": 26,
   "metadata": {},
   "outputs": [
    {
     "name": "stdout",
     "output_type": "stream",
     "text": [
      "call = 5.649714285468814\n",
      "delta = 0.8942662278821744\n",
      "gamma = 0.03517103604251552\n",
      "theta = 0.0031943959104407177\n",
      "vega = 0.04748089865739596\n",
      "rho = 0.1550995073880791\n"
     ]
    }
   ],
   "source": [
    "black_sholes_formula(30, 35, .75, spot_rate(.75), .2, .025, 'call', 'true')"
   ]
  },
  {
   "cell_type": "code",
   "execution_count": 27,
   "metadata": {},
   "outputs": [
    {
     "name": "stdout",
     "output_type": "stream",
     "text": [
      "put = -2.2905783064362733e-13\n",
      "delta = 0.9999999999993964\n",
      "gamma = 4.415111013574576e-13\n",
      "theta = -3.0047283288268725e-14\n",
      "vega = 2.163404396651542e-12\n",
      "rho = 0.09290864391640415\n"
     ]
    }
   ],
   "source": [
    "black_sholes_formula(35, 30, 2, spot_rate(2) , .2, .025, 'put', 'true')"
   ]
  },
  {
   "cell_type": "markdown",
   "metadata": {
    "deletable": false,
    "editable": false
   },
   "source": [
    "<div class = \"panel panel-primary\">\n",
    "    <div class = \"panel-heading\"> \n",
    "    <span style=\"color:white\"><b>Task 10</b>\n",
    "    </div>\n",
    "    <div class = \"panel-body\"> \n",
    "    On June 30th, 2020, the AAPL's stock price was valued at \\$364.14 and paying a dividend yield of 0.9%. On that same day, a call option on AAPL with a strike of \\$380, expiring in 6-months was trading at \\$26.\n",
    "    <br><br>Estimate the implied volatility on this call option using the bisection method with a tolerance of $0.001 on the error of the calculated Black-Scholes call option price. Set <code>option</code> to <code>call</code> and <code>greeks</code> to <code>False</code> when calling the function <code>black_scholes_formula</code>.\n",
    "    <p style=\"text-align:right;\">[15pts]</p>\n",
    "    </div>\n",
    "</div>"
   ]
  },
  {
   "cell_type": "code",
   "execution_count": 28,
   "metadata": {},
   "outputs": [],
   "source": [
    "def black_sholes_formula(stock_price, strike, term, rf, volatility, dividend, option = 'call', greek = 'false'):\n",
    "    d1 = (1/(volatility*(term**.5)))*((np.log(stock_price/strike))+((rf - dividend +(.5*(volatility**2)))*term))\n",
    "    d2 = d1 - volatility*(term**.5)\n",
    "    call = stock_price*np.exp(-dividend*term) * norm.cdf(d1) - strike * (np.exp(-rf * term)) * norm.cdf(d2)\n",
    "    \n",
    "    return call"
   ]
  },
  {
   "cell_type": "code",
   "execution_count": 29,
   "metadata": {},
   "outputs": [
    {
     "data": {
      "text/plain": [
       "24.092348949638392"
      ]
     },
     "execution_count": 29,
     "metadata": {},
     "output_type": "execute_result"
    }
   ],
   "source": [
    "black_sholes_formula(364.14, 380, .5, .01, .3, .009, 'call', 'false')"
   ]
  },
  {
   "cell_type": "code",
   "execution_count": 30,
   "metadata": {},
   "outputs": [
    {
     "data": {
      "text/plain": [
       "29.19285537136338"
      ]
     },
     "execution_count": 30,
     "metadata": {},
     "output_type": "execute_result"
    }
   ],
   "source": [
    "black_sholes_formula(364.14, 380, .5, .01, .35, .009, 'call', 'false')"
   ]
  },
  {
   "cell_type": "code",
   "execution_count": 31,
   "metadata": {},
   "outputs": [],
   "source": [
    "left_vol = .3\n",
    "right_vol = .35"
   ]
  },
  {
   "cell_type": "code",
   "execution_count": null,
   "metadata": {},
   "outputs": [],
   "source": [
    "call_iv = black_sholes_formula(364.14, 380, .5, .01, .3, .009, 'call', 'false')\n",
    "iteration = 0\n",
    "imp_vol = volatility\n",
    "\n",
    "while abs(call_iv) > .001:\n",
    "    imp_vol = (left_vol + right_vol) / 2.\n",
    "    call_iv = black_sholes_formula(364.14, 380, .5, .01, .3, .009, 'call', 'false')\n",
    "    \n",
    "    if (call_iv < 0 and left_vol < 0) or (call_iv > 0 and left_vol < 0):\n",
    "        left_vol = imp_vol\n",
    "    else: \n",
    "        right_vol = imp_vol\n",
    "    \n",
    "    iteration += 1"
   ]
  },
  {
   "cell_type": "code",
   "execution_count": null,
   "metadata": {},
   "outputs": [],
   "source": []
  }
 ],
 "metadata": {
  "kernelspec": {
   "display_name": "Python 3",
   "language": "python",
   "name": "python3"
  },
  "language_info": {
   "codemirror_mode": {
    "name": "ipython",
    "version": 3
   },
   "file_extension": ".py",
   "mimetype": "text/x-python",
   "name": "python",
   "nbconvert_exporter": "python",
   "pygments_lexer": "ipython3",
   "version": "3.8.3"
  }
 },
 "nbformat": 4,
 "nbformat_minor": 2
}
